{
 "cells": [
  {
   "cell_type": "code",
   "execution_count": 100,
   "metadata": {},
   "outputs": [],
   "source": [
    "from math import pi\n",
    "tau = 2*pi\n",
    "import numpy as np\n",
    "class state:\n",
    "    def __init__(self,n,max_c,fuel,path,cargament,moons,pos,minerals_moons\n",
    "                ,moon_r\n",
    "                ):\n",
    "        self.pos = pos\n",
    "        self.moon_r=moon_r\n",
    "        self.n,self.max_c,self.fuel,self.path,self.cargament,self.moons,self.minerals_moons=n,max_c,fuel,path,cargament,moons,minerals_moons\n",
    "    def __hash__(self):\n",
    "        return hash((self.path))# in every problem the state is define by the path\n",
    "    \n",
    "    def isValid(self):\n",
    "        return ((len(self.path)==0 \n",
    "                or (self.fuel>=self.moon_r[self.path[-1]]) )\n",
    "                and self.cargament<=self.max_c\n",
    "               )\n",
    "    def is_Full(self):\n",
    "        return self.cargament==self.max_c\n",
    "    def __repr__(self):\n",
    "        return '''Fuel:{} ,Moons {},cargament:{},valid:{},max_c:  {}'''.format(\n",
    "                self.fuel,self.path,self.cargament,self.isValid(),self.max_c)\n",
    "    \n",
    "    def get(self):\n",
    "        m = (self.minerals_moons[list(self.path)])\n",
    "        #m[-1] = min(m[-1],self.max_c-m.sum()+m[-1])\n",
    "        ans=[]\n",
    "        to_fill=self.max_c\n",
    "        for i in m:\n",
    "            if i>=to_fill:\n",
    "                ans.append(to_fill)\n",
    "                to_fill=0\n",
    "            else:\n",
    "                ans.append(i)\n",
    "                to_fill-=i\n",
    "        out=[]\n",
    "        for i in self.moons:\n",
    "            if i in self.path:\n",
    "                out.append(ans[self.path.index(i)])\n",
    "            else :\n",
    "                out.append('None')\n",
    "        if len(ans)==0:\n",
    "            return ['None']\n",
    "        return sorted(ans)\n",
    "    \n",
    "    def parser(self):\n",
    "        return 'Case #{}: {}'.format('{}',' '.join(map(str,self.get())))\n",
    "    \n",
    "def dist(X,Y):\n",
    "    R1,Theta1 = X \n",
    "    R2,Theta2 = Y\n",
    "    return np.sqrt(R1**2 + R2**2 - 2*R1*R2*np.cos(Theta1 - Theta2))\n",
    "\n",
    "def childrens(State):\n",
    "    self=State\n",
    "    respath = set(self.moons)-set(self.path)\n",
    "    if len(self.path)>0:\n",
    "        actual_moon = self.path[-1]\n",
    "        distances = {m:dist((self.moon_r[m],self.pos[self.n,m]),(self.moon_r[actual_moon],self.pos[self.n,actual_moon]))\n",
    "                     for m in respath}\n",
    "    else:\n",
    "        distances=dict(zip(range(1000),self.moon_r))\n",
    "    cargaments = {m:(self.cargament+self.minerals_moons[m]) for m in self.moons}\n",
    "    return {\n",
    "        m:state(self.n+1,self.max_c,self.fuel-distances[m],self.path+(m,),cargaments[m],self.moons,self.pos,\n",
    "                \n",
    "                self.minerals_moons,\n",
    "               self.moon_r\n",
    "               )\n",
    "        #self,n,max_c,fuel,path,cargament,moons,pos,minerals_moons\n",
    "        #        ,moon_r\n",
    "        for m in respath\n",
    "    }\n",
    "\n",
    "def parser(It#->input part of a problem (iterator)\n",
    "          ):\n",
    "    M = int(next(It))\n",
    "    moons = set(range(M))\n",
    "    moon_r = np.array(list(map(float,next(It).split())),dtype=float)\n",
    "    R = np.array(list(map(float,next(It).split())),dtype=float)\n",
    "    V = (6*tau)/np.array(list(map(float,next(It).split())),dtype=float)#ti\n",
    "    \n",
    "    Theta= np.array(tuple(V*i+R for i in moons))\n",
    "    minerals_moons=np.array(list(map(int,next(It).split())),dtype=int)#ui\n",
    "    Cargament=int(next(It))\n",
    "    fuel = float(next(It))\n",
    "    State=state(n=0,\n",
    "                max_c=Cargament,\n",
    "                fuel=fuel,\n",
    "                path=(),\n",
    "                cargament=0,moons=moons,pos=Theta\n",
    "                ,minerals_moons=minerals_moons\n",
    "                ,moon_r=moon_r)\n",
    "    rec_min = max(bfs_paths(State),key=lambda self:(self.cargament,self.fuel))\n",
    "    \n",
    "    return rec_min\n",
    "\n",
    "def main():\n",
    "    import sys\n",
    "    N = sys.stdin\n",
    "    for i in range(int(next(N))):\n",
    "        print(parser(N).parser().format(i+1))\n",
    "        \n",
    "def bfs_paths(start):\n",
    "    queue = [(start)]\n",
    "    see_path ={}\n",
    "    while queue:\n",
    "        (node) = queue.pop(0)\n",
    "        yield node\n",
    "        \n",
    "        for next in childrens(node).values():\n",
    "            \n",
    "            if next.path in see_path and see_path[next.path]>=next.fuel:\n",
    "                continue\n",
    "            else:\n",
    "                see_path[next.path]=next.fuel\n",
    "            if (not next.is_Full()) and next.isValid():\n",
    "                queue.append(next)\n",
    "                \n",
    "            elif next.isValid():\n",
    "                print(next)\n",
    "                yield next\n"
   ]
  },
  {
   "cell_type": "code",
   "execution_count": 96,
   "metadata": {},
   "outputs": [],
   "source": [
    "def bfs_paths(start):\n",
    "    queue = [(start)]\n",
    "    while queue:\n",
    "        (node) = queue.pop(0)\n",
    "        yield node\n",
    "        \n",
    "        for next in childrens(node).values():\n",
    "            \n",
    "            if (not next.is_Full()) and next.isValid():\n",
    "                queue.append(next)\n",
    "                \n",
    "            elif next.isValid():\n",
    "                yield next"
   ]
  },
  {
   "cell_type": "markdown",
   "metadata": {},
   "source": [
    "```2 ≤ M ≤ 15\n",
    "0.1 ≤ di ≤ 10\n",
    "0 ≤ ri ≤ 2π\n",
    "10 ≤ ti ≤ 500 \n",
    "100 ≤ ui ≤ 2000 \n",
    "10^3 ≤ C ≤ 10^4\n",
    "1 ≤ R ≤ 10```"
   ]
  },
  {
   "cell_type": "code",
   "execution_count": 92,
   "metadata": {},
   "outputs": [
    {
     "data": {
      "text/plain": [
       "32768"
      ]
     },
     "execution_count": 92,
     "metadata": {},
     "output_type": "execute_result"
    }
   ],
   "source": [
    "2**15"
   ]
  },
  {
   "cell_type": "code",
   "execution_count": 93,
   "metadata": {},
   "outputs": [
    {
     "data": {
      "text/plain": [
       "3162"
      ]
     },
     "execution_count": 93,
     "metadata": {},
     "output_type": "execute_result"
    }
   ],
   "source": [
    "sum([1532, 1630])"
   ]
  },
  {
   "cell_type": "code",
   "execution_count": 98,
   "metadata": {},
   "outputs": [
    {
     "name": "stdout",
     "output_type": "stream",
     "text": [
      "[[0.         1.5       ]\n",
      " [6.28318531 7.78318531]]\n"
     ]
    },
    {
     "data": {
      "text/plain": [
       "'Case #{}: 5'"
      ]
     },
     "execution_count": 98,
     "metadata": {},
     "output_type": "execute_result"
    }
   ],
   "source": [
    "import main\n",
    "P=list(iter('''2\n",
    "2.0 2.5\n",
    "0.0 1.5\n",
    "6.0 6.0\n",
    "4 5\n",
    "6\n",
    "10.0'''.split('\\n')))\n",
    "\n",
    "#parser(P).parser()\n",
    "A =(parser(iter(P)))\n",
    "print(A.pos)\n",
    "A.parser()"
   ]
  },
  {
   "cell_type": "code",
   "execution_count": 41,
   "metadata": {},
   "outputs": [
    {
     "data": {
      "text/plain": [
       "7.783185307179586"
      ]
     },
     "execution_count": 41,
     "metadata": {},
     "output_type": "execute_result"
    }
   ],
   "source": [
    "tau+1.5"
   ]
  },
  {
   "cell_type": "code",
   "execution_count": 13,
   "metadata": {},
   "outputs": [
    {
     "name": "stdout",
     "output_type": "stream",
     "text": [
      "25\r\n",
      "2\r\n",
      "2.0 2.5\r\n",
      "0.0 3.14\r\n",
      "12.0 24.0\r\n",
      "4 5\r\n",
      "20\r\n",
      "5.0\r\n",
      "2\r\n",
      "2.0 2.5\r\n",
      "0.0 3.14\r\n",
      "12.0 100.0\r\n",
      "4 5\r\n",
      "20\r\n",
      "6.0\r\n",
      "2\r\n",
      "2.0 2.5\r\n",
      "0.0 1.5\r\n",
      "6.0 6.0\r\n",
      "4 5\r\n",
      "6\r\n",
      "10.0\r\n",
      "2\r\n",
      "2.0 2.5\r\n",
      "0.0 1.5\r\n"
     ]
    }
   ],
   "source": [
    "!head -n 25 testInput.txt"
   ]
  },
  {
   "cell_type": "code",
   "execution_count": 103,
   "metadata": {},
   "outputs": [
    {
     "name": "stdout",
     "output_type": "stream",
     "text": [
      "^C\r\n",
      "Traceback (most recent call last):\r\n",
      "  File \"main.py\", line 123, in <module>\r\n",
      "    main()\r\n",
      "  File \"main.py\", line 103, in main\r\n",
      "    print(parser(N).parser().format(i+1))\r\n",
      "  File \"main.py\", line 95, in parser\r\n",
      "    rec_min = max(bfs_paths(State),key=lambda self:(self.cargament,self.fuel))\r\n",
      "  File \"main.py\", line 112, in bfs_paths\r\n",
      "    for next in childrens(node).values():\r\n",
      "  File \"main.py\", line 61, in childrens\r\n",
      "    for m in respath}\r\n",
      "  File \"main.py\", line 61, in <dictcomp>\r\n",
      "    for m in respath}\r\n",
      "KeyboardInterrupt\r\n"
     ]
    }
   ],
   "source": [
    "!cat submitInput.txt | python3 main.py |tee submitOutput.txt"
   ]
  },
  {
   "cell_type": "code",
   "execution_count": 104,
   "metadata": {},
   "outputs": [],
   "source": [
    "cat submitOutput.txt\n"
   ]
  },
  {
   "cell_type": "code",
   "execution_count": 15,
   "metadata": {},
   "outputs": [
    {
     "name": "stdout",
     "output_type": "stream",
     "text": [
      "[1, 2, 2]\n"
     ]
    }
   ],
   "source": [
    "m = [1,2,3]\n",
    "#m[-1] = min(m[-1],self.max_c-m.sum()+m[-1])\n",
    "ans=[]\n",
    "to_fill=5\n",
    "for i in m:\n",
    "    if i>=to_fill:\n",
    "        ans.append(to_fill)\n",
    "        to_fill=0\n",
    "    else:\n",
    "        ans.append(i)\n",
    "        to_fill-=i\n",
    "print(ans)"
   ]
  },
  {
   "cell_type": "code",
   "execution_count": null,
   "metadata": {},
   "outputs": [],
   "source": []
  }
 ],
 "metadata": {
  "kernelspec": {
   "display_name": "Python 3",
   "language": "python",
   "name": "python3"
  },
  "language_info": {
   "codemirror_mode": {
    "name": "ipython",
    "version": 3
   },
   "file_extension": ".py",
   "mimetype": "text/x-python",
   "name": "python",
   "nbconvert_exporter": "python",
   "pygments_lexer": "ipython3",
   "version": "3.5.2"
  }
 },
 "nbformat": 4,
 "nbformat_minor": 2
}
