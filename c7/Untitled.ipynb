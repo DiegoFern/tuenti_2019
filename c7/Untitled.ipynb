{
 "cells": [
  {
   "cell_type": "markdown",
   "metadata": {},
   "source": [
    "```public static byte[] notSoComplexHash(String inputText) {\n",
    "    byte[] hash = new byte[16];\n",
    "    Arrays.fill(hash, (byte) 0x00);\n",
    "    byte[] textBytes = inputText.getBytes(StandardCharsets.ISO_8859_1);\n",
    "    for (int i = 0; i < textBytes.length; i++) {\n",
    "        hash[i % 16] = (byte) (hash[i % 16] + textBytes[i]);\n",
    "    }\n",
    "    return hash;\n",
    "}```"
   ]
  },
  {
   "cell_type": "code",
   "execution_count": 21,
   "metadata": {},
   "outputs": [
    {
     "data": {
      "text/plain": [
       "[122, 103, 95, 92, -123, -89, -78, 14, 44, -8, 99, 56, 86, 75, -50, 1]"
      ]
     },
     "execution_count": 21,
     "metadata": {},
     "output_type": "execute_result"
    }
   ],
   "source": [
    "def byte(x):\n",
    "    if x>=128:\n",
    "        return -(256-x)\n",
    "    return x\n",
    "\n",
    "def notSoComplexHash( inputText,d=0):\n",
    "    hash_ =[0 for i in range(16)]\n",
    "    textBytes = list(bytes(inputText,'ISO_8859_1'))\n",
    "    for i in range(len(textBytes)):\n",
    "        hash_[(i+d)%16] = ((hash_[(i+d) % 16] + textBytes[(i)])%(2**8))\n",
    "    return list(map(byte,hash_))\n",
    "notSoComplexHash('''Subject: Boat;From: Charlie;To: Desmond;------Not Penny's boat''')"
   ]
  },
  {
   "cell_type": "code",
   "execution_count": 22,
   "metadata": {},
   "outputs": [
    {
     "data": {
      "text/plain": [
       "[122, 103, 95, 92, -123, -89, -78, 14, 44, -8, 99, 56, 86, 75, -50, 1]"
      ]
     },
     "execution_count": 22,
     "metadata": {},
     "output_type": "execute_result"
    }
   ],
   "source": [
    "[122, 103, 95, 92, -123, -89, -78, 14, 44, -8, 99, 56, 86, 75, -50, 1]"
   ]
  },
  {
   "cell_type": "code",
   "execution_count": 56,
   "metadata": {},
   "outputs": [
    {
     "data": {
      "text/plain": [
       "['00_', 'ISO_8859_1']"
      ]
     },
     "execution_count": 56,
     "metadata": {},
     "output_type": "execute_result"
    }
   ],
   "source": [
    "list((''.join([x for i,x in enumerate('03W000000S0e0000Xzzwue08BzQz0Z0DzzzzzzRzzzzzez_zz') if i%16==46%16]),'ISO_8859_1'))"
   ]
  },
  {
   "cell_type": "code",
   "execution_count": 58,
   "metadata": {},
   "outputs": [
    {
     "data": {
      "text/plain": [
       "191"
      ]
     },
     "execution_count": 58,
     "metadata": {},
     "output_type": "execute_result"
    }
   ],
   "source": [
    "sum([48, 48, bytes('_','ISO_8859_1')[0]]\n",
    ")"
   ]
  },
  {
   "cell_type": "code",
   "execution_count": 69,
   "metadata": {},
   "outputs": [
    {
     "name": "stdout",
     "output_type": "stream",
     "text": [
      "Subject: Boat;From: Charlie;To: Desmond; Not Penny's boat 46\n",
      "0 [-6, -178, -215, -62, 5, 178, -23, 72, -18, 84, -66, 203, 200, 140, 2, -10]\n"
     ]
    }
   ],
   "source": [
    "def atack(text,length,objective):\n",
    "    A,B=text.split('------')\n",
    "    print(A,B,len(A)+6)\n",
    "    A=A+'---'\n",
    "    B='---'+B\n",
    "    A_hash=notSoComplexHash(A)\n",
    "    \n",
    "    B_hash=notSoComplexHash(B,d=len(A)+length)\n",
    "    T_hash=notSoComplexHash(objective)\n",
    "    return [t-byte(sum(i)) for t,i in zip(T_hash,zip(A_hash,B_hash))]\n",
    "for i in [0]:\n",
    "    print(i,atack('''Subject: Boat;From: Charlie;To: Desmond;------Not Penny's boat''',i,\n",
    "                  '''Subject: Boat;From: Charlie;To: Desmond;------Penny's boat :)'''))"
   ]
  },
  {
   "cell_type": "code",
   "execution_count": 37,
   "metadata": {},
   "outputs": [
    {
     "data": {
      "text/plain": [
       "49"
      ]
     },
     "execution_count": 37,
     "metadata": {},
     "output_type": "execute_result"
    }
   ],
   "source": [
    "len('03W000000S0e0000Xzzwue08BzQz0Z0DzzzzzzRzzzzzez_zz')"
   ]
  },
  {
   "cell_type": "code",
   "execution_count": 44,
   "metadata": {},
   "outputs": [
    {
     "data": {
      "text/plain": [
       "237"
      ]
     },
     "execution_count": 44,
     "metadata": {},
     "output_type": "execute_result"
    }
   ],
   "source": [
    "48+68+121"
   ]
  },
  {
   "cell_type": "code",
   "execution_count": 66,
   "metadata": {},
   "outputs": [
    {
     "name": "stdout",
     "output_type": "stream",
     "text": [
      "127,-100,-24,145,-40,131,-42,169,129,182,143,200,157,59,105,169,"
     ]
    }
   ],
   "source": [
    "for a,b,c in zip(list(bytes(\"Subject: Boat;From: Charlie;To: Desmond;---\",'ISO_8859_1')),[\n",
    "    -1, -262, -167, -41, -242, -78, -268, -10, 58, 1, 0, 5, -70, -97, -81, 23\n",
    "                                    ],list(bytes(\"---Penny's boat :)\",'ISO_8859_1'))):\n",
    "    print(a+b+c,end=',')"
   ]
  },
  {
   "cell_type": "code",
   "execution_count": null,
   "metadata": {},
   "outputs": [],
   "source": []
  }
 ],
 "metadata": {
  "kernelspec": {
   "display_name": "Python 3",
   "language": "python",
   "name": "python3"
  },
  "language_info": {
   "codemirror_mode": {
    "name": "ipython",
    "version": 3
   },
   "file_extension": ".py",
   "mimetype": "text/x-python",
   "name": "python",
   "nbconvert_exporter": "python",
   "pygments_lexer": "ipython3",
   "version": "3.5.2"
  }
 },
 "nbformat": 4,
 "nbformat_minor": 2
}
