{
 "cells": [
  {
   "cell_type": "code",
   "execution_count": 89,
   "metadata": {},
   "outputs": [],
   "source": [
    "import numpy as np\n",
    "\n",
    "def sigma(xs):\n",
    "    return xs[sigma.permut]\n",
    "\n",
    "def pow_(f,l,xs):\n",
    "    x=xs\n",
    "    for i in range(l%16):\n",
    "        x=f(x)\n",
    "    return x\n",
    "\n",
    "def hash_uniq(x):\n",
    "    if x==0:\n",
    "        return np.zeros(16,np.int8)\n",
    "    xs = np.zeros(16,np.int8)\n",
    "    xs[0] = bytes(x,'ISO_8859_1')[0]\n",
    "    return xs\n",
    "\n",
    "sigma.permut=((-1+np.arange(0,16))%16)[::]"
   ]
  },
  {
   "cell_type": "code",
   "execution_count": 90,
   "metadata": {},
   "outputs": [],
   "source": [
    "def get_hash(text):\n",
    "    if len(text)==0:\n",
    "        return np.zeros(16,np.int8)\n",
    "    return hash_uniq(text[0])+sigma(get_hash(text[1:]))"
   ]
  },
  {
   "cell_type": "code",
   "execution_count": 182,
   "metadata": {},
   "outputs": [],
   "source": [
    "ans4=[]\n",
    "from itertools import chain,groupby\n",
    "for i in chain(range(48,123)):\n",
    "    for j in chain(range(48,123)):\n",
    "        for k in chain(range(48,123)):\n",
    "            for l in chain(range(48,123)):\n",
    "                ans4.append((l,k,j,i,np.int8(l+k+i+j)))\n",
    "ans4={k:min(map(lambda x:x[:4],v)) for k,v in groupby(sorted(ans4,key=lambda x:x[-1]),lambda x:x[-1])}\n",
    "ans3=[]\n",
    "for i in chain(range(48,123)):\n",
    "    for j in chain(range(48,123)):\n",
    "        for l in chain(range(48,123)):\n",
    "                ans3.append((l,j,i,np.int8(l+i+j)))\n",
    "ans3={k:min(map(lambda x:x[:3],v)) for k,v in groupby(sorted(ans3,key=lambda x:x[-1]),lambda x:x[-1])}\n",
    "\n",
    "ans2=[]\n",
    "for i in chain(range(48,123)):\n",
    "    for j in chain(range(48,123)):\n",
    "        ans2.append((j,i,np.int8(i+j)))\n",
    "ans2={k:min(map(lambda x:x[:2],v)) for k,v in groupby(sorted(ans2,key=lambda x:x[-1]),lambda x:x[-1])}\n",
    "\n",
    "\n",
    "ans1=[]\n",
    "for i in chain(range(48,123)):\n",
    "    ans1.append((i,np.int8(i)))\n",
    "ans1={k:min(map(lambda x:x[:1],v)) for k,v in groupby(sorted(ans1,key=lambda x:x[-1]),lambda x:x[-1])}"
   ]
  },
  {
   "cell_type": "code",
   "execution_count": 187,
   "metadata": {},
   "outputs": [
    {
     "data": {
      "text/plain": [
       "3"
      ]
     },
     "execution_count": 187,
     "metadata": {},
     "output_type": "execute_result"
    }
   ],
   "source": [
    "49//16"
   ]
  },
  {
   "cell_type": "code",
   "execution_count": 189,
   "metadata": {},
   "outputs": [],
   "source": [
    "import math\n",
    "math.ceil"
   ]
  },
  {
   "cell_type": "code",
   "execution_count": 245,
   "metadata": {},
   "outputs": [
    {
     "name": "stdout",
     "output_type": "stream",
     "text": [
      "3.0625\n",
      "3.0\n",
      "2.9375\n",
      "2.875\n",
      "2.8125\n",
      "2.75\n",
      "2.6875\n",
      "2.625\n",
      "2.5625\n",
      "2.5\n",
      "2.4375\n",
      "2.375\n",
      "2.3125\n",
      "2.25\n",
      "2.1875\n",
      "2.125\n"
     ]
    },
    {
     "data": {
      "text/plain": [
       "'03W000000S0e0000Xzzwue08BzQz0Z0DzzzzzzRzzzzzez_zz'"
      ]
     },
     "execution_count": 245,
     "metadata": {},
     "output_type": "execute_result"
    }
   ],
   "source": [
    "from itertools import zip_longest\n",
    "all_ans={1:ans1,2:ans2,3:ans3,4:ans4,0:{}}\n",
    "def get_unhash(hash_,len_):\n",
    "    a=[]\n",
    "    for i in hash_:\n",
    "        print((len_)/16)\n",
    "        a.append(all_ans[math.ceil((len_)/16)][i])\n",
    "        \n",
    "        len_=len_-1\n",
    "    estandar_len=len(a[0])\n",
    "    \n",
    "    a=list(map(chr,filter(lambda x: x is not None ,chain(*zip_longest(*a)))))\n",
    "    return a\n",
    "''.join(get_unhash(np.array([124,  39,  75,  33,  31,  15, -78, -30, -20,  71,  -5,  89, -59,\n",
    "         4, -65, -18], dtype=np.int8),49))"
   ]
  },
  {
   "cell_type": "code",
   "execution_count": 256,
   "metadata": {},
   "outputs": [
    {
     "name": "stdout",
     "output_type": "stream",
     "text": [
      "[ 15 -78 -30 -20  71  -5  89 -59   4 -65 -18 124  39  75  33  31]\n",
      "3.0625\n",
      "3.0\n",
      "2.9375\n",
      "2.875\n",
      "2.8125\n",
      "2.75\n",
      "2.6875\n",
      "2.625\n",
      "2.5625\n",
      "2.5\n",
      "2.4375\n",
      "2.375\n",
      "2.3125\n",
      "2.25\n",
      "2.1875\n",
      "2.125\n"
     ]
    },
    {
     "data": {
      "text/plain": [
       "'03W000000S0e0000Xzzwue08BzQz0Z0DzzzzzzRzzzzzez_zz'"
      ]
     },
     "execution_count": 256,
     "metadata": {},
     "output_type": "execute_result"
    }
   ],
   "source": [
    "def main(text1,text2,I):\n",
    "    T1A,T1B=text1.split('------')\n",
    "    T1A,T1B=T1A+'---','---'+T1B\n",
    "    target_hash=get_hash(text2)\n",
    "    deltha=(target_hash)-(\n",
    "    get_hash(list(T1A)\n",
    "          +[0]*I\n",
    "          #+list('03W000000S0e0000Xzzwue08BzQz0Z0DzzzzzzRzzzzzez_zz')\n",
    "          +list(T1B))\n",
    "    )\n",
    "    hash_=(pow_(sigma,-len(T1A),G))\n",
    "    #print(deltha)\n",
    "    return ''.join(get_unhash(hash_,I))\n",
    "\n",
    "main('''Subject: Boat;From: Charlie;To: Desmond;------Penny's boat :)''',\n",
    "     '''Subject: Boat;From: Charlie;To: Desmond;------Not Penny's boat''',49)"
   ]
  },
  {
   "cell_type": "code",
   "execution_count": 273,
   "metadata": {},
   "outputs": [
    {
     "data": {
      "text/plain": [
       "49"
      ]
     },
     "execution_count": 273,
     "metadata": {},
     "output_type": "execute_result"
    }
   ],
   "source": [
    "len('03W000000S0e0000Xzzwue08BzQz0Z0DzzzzzzRzzzzzez_zz'\n",
    ")"
   ]
  },
  {
   "cell_type": "code",
   "execution_count": 253,
   "metadata": {},
   "outputs": [
    {
     "data": {
      "text/plain": [
       "array([ 15, -78, -30, -20,  71,  -5,  89, -59,   4, -65, -18, 124,  39,\n",
       "        75,  33,  31], dtype=int8)"
      ]
     },
     "execution_count": 253,
     "metadata": {},
     "output_type": "execute_result"
    }
   ],
   "source": [
    "get_hash('''Subject: Boat;From: Charlie;To: Desmond;------Not Penny's boat''')-(\n",
    "    get_hash(list('''Subject: Boat;From: Charlie;To: Desmond;---''')\n",
    "          +[0]*49\n",
    "          #+list('03W000000S0e0000Xzzwue08BzQz0Z0DzzzzzzRzzzzzez_zz')\n",
    "          +list( '''---Penny's boat :)'''))\n",
    ")"
   ]
  },
  {
   "cell_type": "code",
   "execution_count": null,
   "metadata": {},
   "outputs": [],
   "source": [
    "ans4=[]\n",
    "\n",
    "\n",
    "for i in chain(range(48,123)):\n",
    "    for j in chain(range(48,123)):\n",
    "        for k in chain(range(48,123)):\n",
    "            for l in chain(range(48,123)):\n",
    "                ans4.append((l,k,j,i,np.int8(l+k+i+j)))\n",
    "ans4={k:min(map(lambda x:x[:4],v)) for k,v in groupby(sorted(ans4,key=lambda x:x[-1]),lambda x:x[-1])}\n",
    "ans3=[]\n",
    "\n",
    "\n",
    "for i in chain(range(48,123)):\n",
    "    for j in chain(range(48,123)):\n",
    "        for l in chain(range(48,123)):\n",
    "                ans3.append((l,j,i,np.int8(l+i+j)))\n",
    "ans3={k:min(map(lambda x:x[:3],v)) for k,v in groupby(sorted(ans3,key=lambda x:x[-1]),lambda x:x[-1])}\n",
    "\n",
    "ans2=[]\n",
    "for i in chain(range(48,123)):\n",
    "    for j in chain(range(48,123)):\n",
    "        ans2.append((j,i,np.int8(i+j)))\n",
    "ans2={k:min(map(lambda x:x[:2],v)) for k,v in groupby(sorted(ans2,key=lambda x:x[-1]),lambda x:x[-1])}\n",
    "\n",
    "\n",
    "ans1=[]\n",
    "for i in chain(range(48,123)):\n",
    "    ans1.append((i,np.int8(i)))\n",
    "ans1={k:min(map(lambda x:x[:1],v)) for k,v in groupby(sorted(ans1,key=lambda x:x[-1]),lambda x:x[-1])}\n",
    "\n",
    "all_ans={1:ans1,2:ans2,3:ans3,4:ans4,0:{}}"
   ]
  },
  {
   "cell_type": "markdown",
   "metadata": {},
   "source": [
    "# THIS IS THE MAIN:"
   ]
  },
  {
   "cell_type": "code",
   "execution_count": 336,
   "metadata": {},
   "outputs": [
    {
     "name": "stdout",
     "output_type": "stream",
     "text": [
      "From: badguyTo: otherbadguySubject: Get some money!------Hello,Our time machine is working! You should go to past and buy a lotto ticket with 6-15-23-26-30-41 in 26-Feb-1996We are going to be rich!\n",
      "From: badguyTo: otherbadguySubject: Get some money!------Hello,Our time machine is working! You should go to past and buy a lotto ticket with 4-8-15-16-23-42 in 26-Feb-1996We are going to be rich!\n",
      "48\n",
      "FirstVersionHeader------FirstVersionBodySubmitFirstVersionBodySubmitFirstVersionBodySubmit\n",
      "ThirdVersionHeader------ThirdVersionBodySubmitThirdVersionBodySubmitThirdVersionBodySubmit\n",
      "42\n",
      "GetAccountBalance?id=223334455------60 dollars\n",
      "GetAccountBalance?id=223334455------One jillion dollars\n",
      "39\n",
      "Ty6dUOTztqGixlgvEJR5iv77hxCTshprQ8IEXhDWzNprm79DnRjgBkrcorn1------J4UVq6KE56iarW7bAge6Bpa6q81cHPUHjEahv4iODg1PuQalS50ES3Pjg5mdXKkOmXCYgXCGxV8FxJuK1oDB6P8pn4f3SpwImIhqtys5tGK1FilEF8E2ubxVmIraUXuzN5EWrSAKD7s4ArXCdDJ7zr0QJwQkomPkI78GF8yU5CiXi0x3Mi3oPOat0wb424nfF9PDNTXLcM8OvZzrPZTqdDL52TAZEadPZqLY02yIWO5Tq1CeoQsLEem58ulMkwyIArDnN9775iOaPd3m1LxD8BQGHPvnctQT5o8W1C5IkehtEZmPMU67FbEv61zUKDR6fNGvjL9i57IUvoELDpP9DjGK8MlKZwcLxGzwJix1GqmFWipqrnrrfsxdJTXRTmOyG9iY3vq0VUN9m7D0K1v0j1qEjI89JGBNr5qAv4OSbT5U7jAwGWQjnlitOLrro3PGrURK4989ykrICVPS7O1nEeKlHAu7bRaQsNt2x871fdAxADwXdVT2np80XHR4Pu78iMPJskVa3UtnpibmdXT0Dv9tsOdwKIEtTRjVizFsFqRPYHHnvu52gwHu8vnxGZaielD3xUH2MwLz9jH51eHzD0keFmUJQBwp6Ro4eESAwDEOEDitgsmJcLNpKFoNiHxncBTbk8TioQWfHMS3gsYAGrYPbUeaCbicAMV9Y2xuCLpbvMuPbXsFtukbC2zHEBP5017htWgBuaUA8Dud86nxiypJLpqadxdINNbTLVi84CBbQbVxto8SYtGznmB5dSVfUy7CXZyGGOOPl7aTE2m2hoGYsWlFUpND94Va7IThwEGMjBdrPSJGFoE5ja9eyBTKDLcz4b2KL5ryo4vD6zFdoQ4tB9J9eaqbiFmQ4rY0dIU7sjwQEcPMxS6yFE8idlXLpztpRatSBI9sxkNTsvDl6C79j84DusQCdbGMbRlEzggHTe5TG8OFKmjWndfiADZirhgbbhGrNizBHY7JuPv47UHzkchOTT7Voj4siC1AoCfDdISUqOG0UAVH0WI8fqndpFAYu2M7CBbV0yRsx43H3IygaNk9Sn2Hc2KrtXFSLPT2PxxQoDmfM0CVngfBhwjBUMT9xYiNbpGBvVHXP0GD9jayLn7KydbRw5yN1N5j81CSirBTNE15lmocNsgAkJPs9GrLdZHpVTYOu5EZMWCCl2zlfdOMux3pMqE6E9e7N4vSa80EUOluOKfDaLb8wVgpDU3jYkaQlnHjGAwg6kF51dGNkhyMl7yAhRsEIym1I53rqGZW8sJ2b7Nsslst2HzSKhzVVcup8dGIBU5wq4jIaGtrf08pFMvY8DYXQre4axuRRdqvRc2DQ8pd1zKkykUy3Iayz9GBTwzM91cVUdVL8ruNXzuMeDplzaD1YjNC5AUk5JBqUL9sXwDQrGNdWkePSBOhHJtk6w3PbACFM03HgzTEAfrZ9CP9jMAuxMDDFyG62XWrhUjIuTljvRQVNRcExy0mc8L7dlG8KNGDKcy7tsUfWfuEMHzutgqfUBc7G0PuBNjJLD5nOiQFB3Gv7OTdgJWwGW1iMdNcDp0wzNvV2hnwqWwSYYe1RLzlB2FsgklCmbZXczhQfSlRMmkPjX3iqakvB0NSjWkeAGAyGaWzifkTtj02ygNP3wClbzGkqjwfjcIgKhYp7kxasG9H0AdwSyBiwKSa7V9WnxgqVnMxuPGei8CBduSiDyix5VmAFEF5QhpdWjyysrI2FAbq5Nm5BxubJJ8hqvRXqCIDo75h6C0qHv1WZigL16mkfJWMihnBLhA4Kiy0tYmcter3nUx8LAu6yTKxCI0sEV9S5K27YW2qfOlKcRXBgnoGdcidITaaMzG3sCid8UjcAvJAdTavmAspcwk2g2LdgB6GiDbtDhiDkrkaMPZ58U0DCs3SCKdITqCWysEffTenfBhZm0et\n",
      "qWS30xvxtOOnnJdsGAnjHShkXPQJtEndLm1rhYh4QxiikjQmWXvoK4bo0gXt------45YJt4e3sMKSpHxG1sLlROPvBGNm13Cu7a2cmA1dsl1IxhqSGfjtYJ3hkrnadU1IIxgFO54IMhtjh3bcdjTFKGArMAqKADEnZnHdEjzJabnzZ0ngxikNmUDqlI4ANx11d2OXcgKbyiM2qPdfEU09uJPkJwA7r92nhJu1tmlUoFmIXK7KJGedH9U3Qgesi45SLfsOarEiGUjrsvaB7hicN7oidYfzwjSnKrzgVD4GHPAyGJVh6a0B3Sc97dJDKtT0k4DU3lmGHYNxUCxH7U8oOVrm5YSd8F6vHHhNGfOV1fjSWhO2d3Innw7leCk8GVWis8rjIMpm89jeL0k6eShSagMwh7lmyTp9BfORXQDfOh9AJIBWP8tNTgL6BWMYx4AE3Tj5pnhy4QYT9rlhOUj4nmZGV8gRzmyTIhsV5hykMm65BpHMCIMRiR5F46Tm0gCGtNPO7TBfraS3R1bCAoRUoMjPg94n4c3eExLVwdBaFxLVAPkRkh7VtzULcOrYQCT2qZtJ0duQVpUaPeayhvLBMXpmq90hODzSIPt8UuqBbfTYO0cRaL4truL39Zq9gYwsMbSS7M3qzOV4URi4tR3M1D1aLInx7NDaCCJKNdqUoQnfkAxOr1y0x73OCzUqyMbOWPDVXmz8jXO3PZtMLF3EcT6ULD4w1Za7jQvtlDHnKWoWcT1kbWNOI9xEmoGiv3Z78N2Z831gwyXtGyQB1aJoDeAf5ra3Ln51P0wQCMfFobrrEiy5H06wGqgyW9AFZwNBgSCad6gVWMHMvY0pUFoL4e7ma55b9VKabvIbCKVSMGg1zQTKdl2jpfk3dh5FotynBxRWw4BHOAP1lqMuKjU8lChT1K8VpRYtOPfOgk4Cy1SKddJDTP2Sol05wpGT16MwP7BtWU9dEdMCbujSeFPYkom6QTsNsGMtlERrCNZjYKStgnFEwDRrjy4s8YuZAPYkdhefKkyZadalsinHxzUMr4GP1qSchuBtZa3BmGKNnQoe8RHy5qDYAU34lzFpl2AqGLHNKjNZZFCedcJdqaAt0goy2vcJZdvtl8DkOwxT3ZhN8ERHNqO2eG9kR52QzQjNKkObMtFmwEIeq05uIUuVar1YcDrZsfSgcSkDvrlJYFZNNXgicA6eeVdNuBcX0pk0YADI3GEXu2DoPGdt5G5NgCefiEF64vcbHCmd77QOxhRvZVU3sNN7nYpAjdyA882q0Z6W1KXJA4yOgcBuzjduZaB974i0jtujDcNlGATG4iYXTmdkNSfwzK0ngKHBGzR9zSAyuUu3eQHJxWQItFwGbzQFSNyllMDwBVT3lxNO3tunSwdAN99OleT2YPrsFHFpx1EDKwdaDCwS3D1QTrzFW738LPrRyVCrvHKhJo0oxy04tU3ODrfDzSChd9cHITR5b9uBBU2RipMGdi2kMmt8T9vDAELG9Bd9iA56e6S9XcFPPw4fsZhSukscKX3qcLsm1IAvHWIGQl8uA0VWDMPmaEGQrIHk3IJKT0K9dhu1tTl21AEibZoYIibmdN4h8n2VHIjLKIKBoug71VaLgjxvPf0oU43tG54JDPvDwPg44Q70BcVlh170xocXIo2SgNizAIF010b6YYuLehpoJQHA3j9rWBBwcaCWTxs6LagoBTStevEhUuGl7fh2pHIqEeoe7LHIf5iWjMJ1G5SH3lYofl61sHzXIkQmfbwRS43hhf6kqMHXLwpdKgH9Gus8mReSUKB8mhnR1weDJPLVpYEYP0gLGOxplgcyGuwicL0oXn0n5nf8Y8LsYvLX0izOeLVKt1eK8NlOsfQHY1szByh17Tcdep39Gf6nVKoD6ERH7sRbuBmsZCfebu2h8RgVM0U4NR58qfp0KsXW7XtuGZzkuorgKA0aevwjYB6Nfukn7A0R9pd4z2vbw05OEcbHZvCz\n",
      "45\n",
      "kzhT7HYkKDA3rEiudiSYs4Wir3CCjruBbv4AZnFB99I1nNzfWfYlPucuMEcgSC2kjHbcgiZT9DaNGDcb------2DDl0xIX13z9qdPuui7X6ZcCMzG9UKxD7oCdlrDep8TKu0HdFs6GykiubyRQpQhMq0wx4LFBXID3iZZDFLzGEFRKS34fWISk5AfPGCa0JnMeg6KgOSNof1RgVzvs7vjYD4hjUJlOh79NxD6Hjz6ESlG4mjwdngSsEf3EpbE05TxZDtVJ5hU0SBtvjj5xyKsaIDcahEACiMnXMaFiVwITz7WROaZXgPlDJNuz0zlPvyd2UTW1fQtmHFGsOC4R1EDMVZYLc2NqpiFSKCkMs4NA8T1PgBZfm6FWHvrfXSCf14wUmw69uo2aMw185BTuNjvaAvP4jLxlPUTkD2V3gsDLtifNWoo4LEn7GrHoxoiHB5MeoK8ZimIOMFpY13APbxOtfgAKY7si4WkyJfG20CWzm1GdituFuWO1SAPG55wpQhTuKIKszVSmZSG3DzN1Enz4FIwddcMHiCGdcgWgMzZLfxsAYpLrClN52ofUa7OqbdnfLg7LtB26YCk81AedRTDA7fAUSLh7GRJYLSG1NitbXXHuJ1Sic5caz4LIOdv4O1ZWRLh23ZX9V71YK7QobvafbIcALHhIO65It3tIcKrY1OlNCYCEs2Oo5Ncr4V7xlAnE4UKWICa1hMIQH2uQtDTQHEk3LNrFCqaLKFPOblKhAhYiNCz6qCQYuVKVGwTPL7QVIfh1EGPU1SUCQHMHbJwO3D7v2m6f7SBZEXYe6NRxW2hjIa3c9jm7ph6PuOizytdBozVZ4vQOJ33KsvHWuUKGSGd9BEoNpMjghLelI4SSllhI6Jcxzobq\n",
      "kGPSu857VfgFssAUtFk3zEeG3wuyMaShMO4opQqFESEQ2X6wd2wKOmMorTVHzxhoLD4LPi3P5RpmThgM------KDmqnkGCHraIKqf9ilvFcf0UHjMMeNvBflUdL1NXIP818VK0QelI4LkgBoHM8xmyBrnKwtXX7G61VPb0sFuoOcyk8j2LksGFO9O5e5DdwAS0EmlMpcpo9LmXwZ2sLKPeN8KRO3WZuDG2dE4HJa2PhWVYqhYbBekKiAO4YTzIlCl0xo0stGeDTHr55l5WqTUZNYKvxHAd6hXw1vBO1hIxVnc34RwBokuyYHFKofiGDarnswRkFmOkg7ltLejCsULYEjG9UkXxbeSbbfz5S918Us4itgcGlFK82FPDqL5CZm4WmlFkokHMUfDG6vmTKpOkyr0JXN5mESBeKE9PYIzwjPwp5drj4rh2nxwXI6EgJBB3GINU9X0PHjwhSqc4zxGn7gGTyFpQQQJcum03O3DhSP6IQdJO0fns2oR7ge2flypwphiQ2hElS3z0yru238eIjIoDgbzPbMPIrFo7avkU02h9IF25uFTYltlq0YRK9RaiZkRGZRjD86blRM7IVOKaHXOL6HskV3dnNj7FlekgOcY9xiVWXMgq6740BZgnq9RgDyZ7K8L6nVsHBZjvsosqIYtAPoRVqhYkqbRzN9LoPj2MnQESlHzKHDgeYPB4WKYbgikXHbRSPYUeJ9DdBHaTFPrjkEkbrNvgV9sZqwYgjltFEJK0HXwr8XPY84dkPv2Vxr9ozqzs0C8hC1RWR6eVfisc9p9zhvhrW599sUXmLBOh0Agfows1d723GJ0Afk4h5Fod164sUmm9pdckmjrddt0pvQsITo5qbtmkvsmVAfbDAC1UlUTR\n",
      "49\n"
     ]
    }
   ],
   "source": [
    "from itertools import zip_longest\n",
    "import numpy as np\n",
    "from itertools import chain,groupby\n",
    "\n",
    "def sigma(xs):\n",
    "    return xs[sigma.permut]\n",
    "\n",
    "def pow_(f,l,xs):\n",
    "    x=xs\n",
    "    for i in range(l%16):\n",
    "        x=f(x)\n",
    "    return x\n",
    "\n",
    "def hash_uniq(x):\n",
    "    if x==0:\n",
    "        return np.zeros(16,np.int8)\n",
    "    xs = np.zeros(16,np.int8)\n",
    "    xs[0] = bytes(x,'ISO_8859_1')[0]\n",
    "    return xs\n",
    "\n",
    "sigma.permut=((-1+np.arange(0,16))%16)[::]\n",
    "def get_hash(text):\n",
    "    if len(text)==0:\n",
    "        return np.zeros(16,np.int8)\n",
    "    return hash_uniq(text[0])+sigma(get_hash(text[1:]))\n",
    "\n",
    "\n",
    "def get_unhash(hash_,len_):\n",
    "    a=[]\n",
    "    for i in hash_:\n",
    "        try:\n",
    "            a.append(all_ans[math.ceil((len_)/16)][i])\n",
    "        except Exception as a:\n",
    "            raise a\n",
    "        len_=len_-1\n",
    "    estandar_len=len(a[0])\n",
    "    D=list(chain(*zip_longest(*a)))\n",
    "    \n",
    "    a=list(map(chr,filter(lambda x: x is not None ,D)))\n",
    "    return a\n",
    "\n",
    "def solver(text1,text2,I):\n",
    "    T1A,T1B=text2.split('------')\n",
    "    T1A,T1B=T1A+'---','---'+T1B\n",
    "    target_hash=get_hash(text1)\n",
    "    deltha=(target_hash)-(\n",
    "    get_hash(list(T1A)\n",
    "          +[0]*I\n",
    "          +list(T1B))\n",
    "    )\n",
    "    hash_=(pow_(sigma,-len(T1A),deltha))\n",
    "    return ''.join(get_unhash(hash_,I))\n",
    "N=open('submitInput.txt','r')\n",
    "def main():\n",
    "    import sys\n",
    "    with open('submitOutput.txt','w') as f:\n",
    "        for i in range(int(next(N))):\n",
    "            s=None\n",
    "            t1=''\n",
    "            for k in range(int(next(N))):\n",
    "                t1+=next(N).strip()\n",
    "            t2=''\n",
    "            for k in range(int(next(N))):\n",
    "                t2+=next(N).strip()\n",
    "            print(t1)\n",
    "            print(t2)\n",
    "            c=True\n",
    "            for K in range(70):\n",
    "                try:\n",
    "                    s=solver(t1,t2,K)\n",
    "                    c=False\n",
    "                    break\n",
    "                except:\n",
    "                    pass\n",
    "                if not c:\n",
    "                    break\n",
    "            print(K)\n",
    "            A,B=t2.split('------')\n",
    "            A=A+'---'\n",
    "            B='---'+B\n",
    "            print('Case #{}: {}'.format(i+1,s),file=f)\n",
    "main()"
   ]
  },
  {
   "cell_type": "code",
   "execution_count": 335,
   "metadata": {},
   "outputs": [
    {
     "name": "stdout",
     "output_type": "stream",
     "text": [
      "Case #1: 0QJ00W00OtK0D000Pzz0^z0Vzzz_z\\\\9zzzDzz?zzzzzzzzz\r\n",
      "Case #2: 8@Ove00000Y2Q\\0dzzzzzQ`jQuzzzzmzzzzzzzzzzz\r\n",
      "Case #3: 0000000YYY700f0000000VVzzzzbkzfgaadgbzz\r\n",
      "Case #4: 0YF0P000gr600Ev2]zz2zdmIzzz00zzzzzzzzzzzzzzR_\r\n",
      "Case #5: 00hQ0>N00000000]00zz0zzdj>00000zmIzzpzzzzzN5K3]zz\r\n"
     ]
    }
   ],
   "source": [
    "!head testOutput.txt"
   ]
  },
  {
   "cell_type": "code",
   "execution_count": 330,
   "metadata": {},
   "outputs": [
    {
     "name": "stdout",
     "output_type": "stream",
     "text": [
      "Case #1: 03W000000S0e0000Xzzwue08BzQz0Z0DzzzzzzRzzzzzez_zz\r\n",
      "Case #2: 0000Q003W000000S0500z0Xzzwue08Bz0z00z0zzzzzzRzzzkz5tz^z\r\n",
      "Case #3: 0000000Q003W00000000500z0Xzzwue000m0z00z0zzzzzzRR\\zkz5tz^z\r\n"
     ]
    }
   ],
   "source": [
    "!head testOutput.txt"
   ]
  },
  {
   "cell_type": "code",
   "execution_count": 304,
   "metadata": {},
   "outputs": [
    {
     "data": {
      "text/plain": [
       "[(48, '0'),\n",
       " (49, '1'),\n",
       " (50, '2'),\n",
       " (51, '3'),\n",
       " (52, '4'),\n",
       " (53, '5'),\n",
       " (54, '6'),\n",
       " (55, '7'),\n",
       " (56, '8'),\n",
       " (57, '9'),\n",
       " (58, ':'),\n",
       " (59, ';'),\n",
       " (60, '<'),\n",
       " (61, '='),\n",
       " (62, '>'),\n",
       " (63, '?'),\n",
       " (64, '@'),\n",
       " (65, 'A'),\n",
       " (66, 'B'),\n",
       " (67, 'C'),\n",
       " (68, 'D'),\n",
       " (69, 'E'),\n",
       " (70, 'F'),\n",
       " (71, 'G'),\n",
       " (72, 'H'),\n",
       " (73, 'I'),\n",
       " (74, 'J'),\n",
       " (75, 'K'),\n",
       " (76, 'L'),\n",
       " (77, 'M'),\n",
       " (78, 'N'),\n",
       " (79, 'O'),\n",
       " (80, 'P'),\n",
       " (81, 'Q'),\n",
       " (82, 'R'),\n",
       " (83, 'S'),\n",
       " (84, 'T'),\n",
       " (85, 'U'),\n",
       " (86, 'V'),\n",
       " (87, 'W'),\n",
       " (88, 'X'),\n",
       " (89, 'Y'),\n",
       " (90, 'Z'),\n",
       " (91, '['),\n",
       " (92, '\\\\'),\n",
       " (93, ']'),\n",
       " (94, '^'),\n",
       " (95, '_'),\n",
       " (96, '`'),\n",
       " (97, 'a'),\n",
       " (98, 'b'),\n",
       " (99, 'c'),\n",
       " (100, 'd'),\n",
       " (101, 'e'),\n",
       " (102, 'f'),\n",
       " (103, 'g'),\n",
       " (104, 'h'),\n",
       " (105, 'i'),\n",
       " (106, 'j'),\n",
       " (107, 'k'),\n",
       " (108, 'l'),\n",
       " (109, 'm'),\n",
       " (110, 'n'),\n",
       " (111, 'o'),\n",
       " (112, 'p'),\n",
       " (113, 'q'),\n",
       " (114, 'r'),\n",
       " (115, 's'),\n",
       " (116, 't'),\n",
       " (117, 'u'),\n",
       " (118, 'v'),\n",
       " (119, 'w'),\n",
       " (120, 'x'),\n",
       " (121, 'y')]"
      ]
     },
     "execution_count": 304,
     "metadata": {},
     "output_type": "execute_result"
    }
   ],
   "source": [
    "list(zip(range(48,122),map(chr,range(48,122))))"
   ]
  },
  {
   "cell_type": "code",
   "execution_count": null,
   "metadata": {},
   "outputs": [],
   "source": []
  }
 ],
 "metadata": {
  "kernelspec": {
   "display_name": "Python 3",
   "language": "python",
   "name": "python3"
  },
  "language_info": {
   "codemirror_mode": {
    "name": "ipython",
    "version": 3
   },
   "file_extension": ".py",
   "mimetype": "text/x-python",
   "name": "python",
   "nbconvert_exporter": "python",
   "pygments_lexer": "ipython3",
   "version": "3.5.2"
  }
 },
 "nbformat": 4,
 "nbformat_minor": 2
}
