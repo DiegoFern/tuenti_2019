{
 "cells": [
  {
   "cell_type": "code",
   "execution_count": 75,
   "metadata": {},
   "outputs": [],
   "source": [
    "from itertools import chain\n",
    "def sub(x):\n",
    "    if x>ord('a') and x<=ord('z'):\n",
    "        return x\n",
    "    else:\n",
    "        return 95\n",
    "A=''.join(map(chr,map(sub,chain.from_iterable(map(list,open('a.class','rb'))))))"
   ]
  },
  {
   "cell_type": "code",
   "execution_count": 76,
   "metadata": {},
   "outputs": [
    {
     "data": {
      "text/plain": [
       "[(48, '0'),\n",
       " (49, '1'),\n",
       " (50, '2'),\n",
       " (51, '3'),\n",
       " (52, '4'),\n",
       " (53, '5'),\n",
       " (54, '6'),\n",
       " (55, '7'),\n",
       " (56, '8'),\n",
       " (57, '9'),\n",
       " (58, ':'),\n",
       " (59, ';'),\n",
       " (60, '<'),\n",
       " (61, '='),\n",
       " (62, '>'),\n",
       " (63, '?'),\n",
       " (64, '@'),\n",
       " (65, 'A'),\n",
       " (66, 'B'),\n",
       " (67, 'C'),\n",
       " (68, 'D'),\n",
       " (69, 'E'),\n",
       " (70, 'F'),\n",
       " (71, 'G'),\n",
       " (72, 'H'),\n",
       " (73, 'I'),\n",
       " (74, 'J'),\n",
       " (75, 'K'),\n",
       " (76, 'L'),\n",
       " (77, 'M'),\n",
       " (78, 'N'),\n",
       " (79, 'O'),\n",
       " (80, 'P'),\n",
       " (81, 'Q'),\n",
       " (82, 'R'),\n",
       " (83, 'S'),\n",
       " (84, 'T'),\n",
       " (85, 'U'),\n",
       " (86, 'V'),\n",
       " (87, 'W'),\n",
       " (88, 'X'),\n",
       " (89, 'Y'),\n",
       " (90, 'Z'),\n",
       " (91, '['),\n",
       " (92, '\\\\'),\n",
       " (93, ']'),\n",
       " (94, '^'),\n",
       " (95, '_'),\n",
       " (96, '`'),\n",
       " (97, 'a'),\n",
       " (98, 'b'),\n",
       " (99, 'c'),\n",
       " (100, 'd'),\n",
       " (101, 'e'),\n",
       " (102, 'f'),\n",
       " (103, 'g'),\n",
       " (104, 'h'),\n",
       " (105, 'i'),\n",
       " (106, 'j'),\n",
       " (107, 'k'),\n",
       " (108, 'l'),\n",
       " (109, 'm'),\n",
       " (110, 'n'),\n",
       " (111, 'o'),\n",
       " (112, 'p'),\n",
       " (113, 'q'),\n",
       " (114, 'r'),\n",
       " (115, 's'),\n",
       " (116, 't'),\n",
       " (117, 'u'),\n",
       " (118, 'v'),\n",
       " (119, 'w')]"
      ]
     },
     "execution_count": 76,
     "metadata": {},
     "output_type": "execute_result"
    }
   ],
   "source": [
    "[(i,chr(i)) for i in range(48,120)]"
   ]
  },
  {
   "cell_type": "code",
   "execution_count": 80,
   "metadata": {},
   "outputs": [
    {
     "data": {
      "text/plain": [
       "'_j_v_l_ng_bject_s_j_v_l_ng_invoke_ethod_ndles_ookup_j_v_l_ng_tring_j_v_l_ng_invoke_ethod_ype_j_v_l_ng_invoke_ll_ite_j_v_l_ng_invoke_ethod_ndles_ookup_lookup_l_ss_j_v_l_ng_l_ss_find_t_tic_j_v_l_ng_l_ss_j_v_l_ng_tring_j_v_l_ng_invoke_ethod_ype_j_v_l_ng_invoke_ethod_ndle_j_v_l_ng_invoke_onst_nt_ll_ite_init_j_v_l_ng_invoke_ethod_ndle_j_v_l_ng_invoke_ethod_ndles_ookup_j_v_l_ng_tring_j_v_l_ng_l_ss_j_v_l_ng_l_ss_define_l_ss_j_v_l_ng_l_ss_j_v_l_ng_invoke_ethod_ndles_ookup_j_v_l_ng_tring_j_v_l_ng_l_ss_j_v_l_ng_tring_j_v_l_ng_l_ss_j_v_l_ng_nteger_j_v_l_ng_invoke_ethod_ype_method_ype_j_v_l_ng_l_ss_j_v_l_ng_l_ss_j_v_l_ng_invoke_ethod_ypind_irtu_l_j_v_l_ng_l_ss_new_nst_nce_j_v_l_ng_bject_j_v_l_ng_invoke_ethod_ndle_invoke_j_v_l_ng_bject_j_v_l_ng_tring_j_v_l_ng_invoke_ethod_ndles_ookup_j_v_l_ng_tring_j_v_l_ng_l_ss_j_v_l_ng_bject_m_in_j_v_l_ng_tring_j_v_l_ng_tring_j_v_l_ng_tring_j_v_l_ng_th_floor_pow_j_v_util_it_et_v_lu_j_v_util_it_et_c_rdin_lity_j_v_l_ng_tring_j_v_l_ng_ystem_out_j_v_io_rint_tre_m_j_v_io_rint_tre_m_print_j_v_l_ng_tring_in_j_v_io_nput_tre_m_j_v_io_nput_tre_m_re_d_printlde_t_ck_p_ble_ootstr_p_ethods_est_embers_l_r_j_v_l_n_g_b_j_e_c_t_j_v_u_t_i_l_p_i_n_i_t_j_v_p_u_q_t_r_i_s_l_p_x_y_z_n_t_r_y_j_v_l_n_g_n_t_e_g_e_r_v_l_u_j_v_l_n_g_n_t_e_g_e_r_j_v_u_t_i_l_p_e_n_t_r_y_j_v_l_n_g_b_j_e_c_t_j_v_l_n_g_b_j_e_c_t_j_v_u_t_i_l_p_n_t_r_y_o_f_n_t_r_b_i_c_e_d_s_k_j_v_p_u_q_t_r_i_s_l_p_x_y_z_n_t_r_y_j_v_u_t_i_l_p_j_v_l_n_g_t_r_i_n_g_j_v_l_n_g_t_r_i_n_g_g_e_t_j_v_l_n_g_b_j_e_c_t_j_v_l_n_g_b_j_e_c_t_c_e_j_v_l_n_g_t_r_i_n_g_k_y_z_y_t_h_e_w_o_r_d_o_e_x_y_z_n_t_h_e_p_t_h_e_l_c_o_m_e_x_y_z_r_c_l_d_o_u_i_l_l_h_x_y_z_v_e_t_o_g_r_o_w_k_f_b_k_d_f_p_i_y_z_b_d_k_d_d_p_l_d_d_p_ph_l_d_d_d_d_d_'"
      ]
     },
     "execution_count": 80,
     "metadata": {},
     "output_type": "execute_result"
    }
   ],
   "source": [
    "import re\n",
    "B=re.sub('_+','_',A)\n",
    "for r in ['YT','TY','B_C_D_E_F_G_H_I_J_K_L_M_N_O_P_Q_R_S_T_U_V_W_X_Y_Z'.lower()]+[chr(i)+'_'+chr(i+1)\n",
    "    for i in range(97,120)\n",
    "    \n",
    "]:\n",
    "    B=re.sub(r,'',B)\n",
    "    B=re.sub('_+','_',B)\n",
    "B=re.sub('a_b_c_d_e_f_g_h_i_j_k_l_m_n_o_p_k_q_r_s_t_u_v_w_x','_',B)\n",
    "B"
   ]
  },
  {
   "cell_type": "code",
   "execution_count": 78,
   "metadata": {},
   "outputs": [],
   "source": [
    "from collections import *\n",
    "C=Counter((l for i in (A) for l in list(i )))\n",
    "        "
   ]
  },
  {
   "cell_type": "code",
   "execution_count": 44,
   "metadata": {},
   "outputs": [
    {
     "data": {
      "text/plain": [
       "<matplotlib.axes._subplots.AxesSubplot at 0x7f8d214d0710>"
      ]
     },
     "execution_count": 44,
     "metadata": {},
     "output_type": "execute_result"
    },
    {
     "data": {
      "image/png": "[encoded data removed]",
      "text/plain": [
       "<matplotlib.figure.Figure at 0x7f8d214cea90>"
      ]
     },
     "metadata": {},
     "output_type": "display_data"
    }
   ],
   "source": [
    "import pandas as pd\n",
    "pd.Series(list(C),index=C.values()).plot()"
   ]
  },
  {
   "cell_type": "code",
   "execution_count": null,
   "metadata": {},
   "outputs": [],
   "source": []
  }
 ],
 "metadata": {
  "kernelspec": {
   "display_name": "Python 3",
   "language": "python",
   "name": "python3"
  },
  "language_info": {
   "codemirror_mode": {
    "name": "ipython",
    "version": 3
   },
   "file_extension": ".py",
   "mimetype": "text/x-python",
   "name": "python",
   "nbconvert_exporter": "python",
   "pygments_lexer": "ipython3",
   "version": "3.5.2"
  }
 },
 "nbformat": 4,
 "nbformat_minor": 2
}
