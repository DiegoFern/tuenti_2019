{
 "cells": [
  {
   "cell_type": "code",
   "execution_count": 56,
   "metadata": {},
   "outputs": [],
   "source": [
    "from collections import *\n",
    "class caract:\n",
    "    def __init__(self,data):\n",
    "        self.level = 0\n",
    "        self.cost = int(data[1])\n",
    "        self.skills = (set(data[3:]))\n",
    "        \n",
    "    def __repr__(self):\n",
    "        return '''LEVEL {} COST {} SKILL {}'''.format(self.level,self.cost,self.skills)\n",
    "    def bound_skills(self,s):\n",
    "        data = [(self.level),self.cost,0]\n",
    "        data.extend(self.skills.intersection(s ))\n",
    "        return caract(data)\n",
    "    def __add__(self,o):\n",
    "        data = [max(self.level,o.level),self.cost+o.cost,0]\n",
    "        data.extend(self.skills|o.skills)\n",
    "        a=caract(data)\n",
    "        return a\n",
    "    def get_base(self):\n",
    "        #copy free cost=0\n",
    "        S= caract([self.level,0,0,]+list(self.skills))\n",
    "        return S\n",
    "    def __eq__(self,other):\n",
    "        return self.skills==other.skills and self.cost==other.cost\n",
    "    def __hash__(self):\n",
    "        return hash(tuple(sorted(self.skills)+[self.cost]))\n",
    "def load_almanaq():\n",
    "    N=open('almanac.data','r')\n",
    "    C,F =next(N).split()\n",
    "    character={}\n",
    "    for c in range(int(C)):\n",
    "        line=next(N).strip().split()\n",
    "        character[line[0]]=caract(line[1:])\n",
    "                 \n",
    "    Fus=defaultdict(list)\n",
    "    for f in range(int(F)):\n",
    "        line=next(N).strip().split()\n",
    "        Fus[line[0]].append(line[1:])\n",
    "    return character,Fus\n",
    "C,F=load_almanaq()"
   ]
  },
  {
   "cell_type": "code",
   "execution_count": 57,
   "metadata": {},
   "outputs": [
    {
     "data": {
      "text/plain": [
       "<function _operator.add>"
      ]
     },
     "execution_count": 57,
     "metadata": {},
     "output_type": "execute_result"
    }
   ],
   "source": [
    "import operator\n",
    "from functools import reduce\n",
    "operator.add"
   ]
  },
  {
   "cell_type": "code",
   "execution_count": 58,
   "metadata": {},
   "outputs": [],
   "source": [
    "def clean(list_caract):\n",
    "    SKILLS_COSTS={}\n",
    "    for i in list_caract:\n",
    "        SKILLS_COSTS[tuple(sorted(i.skills))]=min(i.cost,SKILLS_COSTS.get(tuple(sorted(i.skills)),999999999))\n",
    "    ans=[]\n",
    "    for u,v in SKILLS_COSTS.items():\n",
    "        ans.append(caract((0,v,0,)+u))\n",
    "      \n",
    "    return ans"
   ]
  },
  {
   "cell_type": "code",
   "execution_count": 59,
   "metadata": {},
   "outputs": [],
   "source": [
    "BASE={c:C[c].get_base() for c in C}\n",
    "def encarntions_ch(character,bounded_skills,presup):\n",
    "    if character in encarntions_ch.D:\n",
    "        return encarntions_ch.D[character]\n",
    "    ans=set()\n",
    "    ans.add(C[character])\n",
    "    for fusion in F[character]:\n",
    "        for l in list(encarntions_ch(fusion[0],bounded_skills,presup)):\n",
    "            \n",
    "            for r in list(encarntions_ch(fusion[1],bounded_skills,presup)):\n",
    "                fus = (r+l+BASE[character]).bound_skills(bounded_skills)\n",
    "                if fus.cost<=presup:\n",
    "                    ans.add( fus )\n",
    "    \n",
    "    encarntions_ch.D[character]=clean(ans)\n",
    "    return ans\n",
    "encarntions_ch.D ={}\n"
   ]
  },
  {
   "cell_type": "code",
   "execution_count": 60,
   "metadata": {},
   "outputs": [
    {
     "data": {
      "text/plain": [
       "{'character101',\n",
       " 'character18',\n",
       " 'character26',\n",
       " 'character38',\n",
       " 'character4',\n",
       " 'character5',\n",
       " 'character76',\n",
       " 'character80',\n",
       " 'character83',\n",
       " 'character87',\n",
       " 'pixie',\n",
       " 'thor'}"
      ]
     },
     "execution_count": 60,
     "metadata": {},
     "output_type": "execute_result"
    }
   ],
   "source": [
    "set(['character18', 'pixie']+\n",
    " ['character80', 'character87']+\n",
    " ['character26', 'character5']+\n",
    " ['character38', 'character4']+\n",
    " ['character101', 'thor']+\n",
    " ['character76', 'character83'])-set( encarntions_ch.D)"
   ]
  },
  {
   "cell_type": "code",
   "execution_count": 77,
   "metadata": {},
   "outputs": [
    {
     "data": {
      "text/plain": [
       "True"
      ]
     },
     "execution_count": 77,
     "metadata": {},
     "output_type": "execute_result"
    }
   ],
   "source": [
    "'character149' in ( in (encarntions_ch.D))"
   ]
  },
  {
   "cell_type": "code",
   "execution_count": 82,
   "metadata": {},
   "outputs": [
    {
     "name": "stdout",
     "output_type": "stream",
     "text": [
      "character143\n",
      "character159\n"
     ]
    }
   ],
   "source": [
    "for i in F['character176']:\n",
    "    for k in i:\n",
    "        if k not in encarntions_ch.D:\n",
    "            print(k)"
   ]
  },
  {
   "cell_type": "code",
   "execution_count": 66,
   "metadata": {},
   "outputs": [
    {
     "name": "stdout",
     "output_type": "stream",
     "text": [
      "character109 122\n",
      "character130 192\n",
      "character78 5\n",
      "angel 2\n",
      "character19 1\n",
      "character76 10\n",
      "character88 3\n",
      "character16 1\n",
      "character31 1\n",
      "character45 2\n",
      "character30 1\n",
      "character129 80\n",
      "character37 1\n",
      "character126 110\n",
      "character46 3\n",
      "character100 9\n",
      "character123 105\n",
      "character63 3\n",
      "character4 1\n",
      "character24 1\n",
      "character52 1\n",
      "character11 1\n",
      "character147 166\n",
      "character1 1\n",
      "character142 257\n",
      "character65 12\n",
      "character112 31\n",
      "character86 19\n",
      "character116 64\n",
      "character140 254\n",
      "character115 106\n",
      "character25 1\n",
      "character61 1\n",
      "character110 100\n",
      "character38 2\n",
      "character40 1\n",
      "character13 1\n",
      "character97 5\n",
      "character79 6\n",
      "character54 3\n",
      "character2 1\n",
      "character89 3\n",
      "character29 1\n",
      "character26 2\n",
      "character59 5\n",
      "character72 5\n",
      "character49 2\n",
      "character5 1\n",
      "character119 167\n",
      "character22 1\n",
      "character64 6\n",
      "character87 5\n",
      "character47 1\n",
      "character80 13\n",
      "pixie 1\n",
      "character133 42\n",
      "character34 2\n",
      "character8 1\n",
      "character121 4\n",
      "character43 1\n",
      "character114 127\n",
      "character57 3\n",
      "character81 3\n",
      "character84 3\n",
      "character20 2\n",
      "character32 1\n",
      "character58 2\n",
      "mithra 2\n",
      "character96 29\n",
      "character0 1\n",
      "character127 168\n",
      "character42 3\n",
      "character62 4\n",
      "character73 10\n",
      "character17 2\n",
      "ifrit 2\n",
      "character93 24\n",
      "character27 1\n",
      "character56 1\n",
      "character35 1\n",
      "character53 1\n",
      "character132 65\n",
      "character14 1\n",
      "character135 214\n",
      "character55 2\n",
      "character6 1\n",
      "character7 1\n",
      "character104 43\n",
      "character139 257\n",
      "character99 16\n",
      "character122 126\n",
      "character91 11\n",
      "character67 2\n",
      "character70 2\n",
      "character108 19\n",
      "character51 1\n",
      "character9 1\n",
      "character23 2\n",
      "character102 74\n",
      "typhoon 1\n",
      "character146 145\n",
      "character41 5\n",
      "character15 1\n",
      "character60 6\n",
      "character36 1\n",
      "character66 4\n",
      "character148 257\n",
      "character3 1\n",
      "character144 214\n",
      "character21 1\n",
      "character134 108\n",
      "character75 3\n",
      "character117 94\n",
      "character120 88\n",
      "character39 2\n",
      "succubus 1\n",
      "character18 3\n",
      "character92 21\n",
      "character103 49\n",
      "character10 1\n",
      "character68 6\n",
      "character94 4\n",
      "character69 6\n",
      "character82 4\n",
      "character83 16\n",
      "phoenix 2\n",
      "thor 1\n",
      "character85 25\n",
      "character77 5\n",
      "character101 20\n",
      "character28 1\n",
      "character106 60\n",
      "character44 1\n",
      "character124 197\n",
      "character145 256\n",
      "character71 3\n",
      "character95 9\n",
      "character105 105\n",
      "orobas 2\n",
      "character107 75\n",
      "character98 4\n",
      "character128 223\n",
      "shiva 1\n",
      "character125 141\n",
      "character33 1\n",
      "character50 4\n",
      "character90 5\n",
      "character48 1\n",
      "character74 14\n",
      "character118 224\n",
      "character138 257\n",
      "character149 214\n",
      "character113 41\n",
      "character12 1\n",
      "character150 257\n",
      "character111 91\n",
      "character131 121\n"
     ]
    }
   ],
   "source": [
    "for i in (encarntions_ch.D):\n",
    "    print(i,encarntions_ch.D[i].__len__())"
   ]
  },
  {
   "cell_type": "code",
   "execution_count": 85,
   "metadata": {},
   "outputs": [
    {
     "name": "stdout",
     "output_type": "stream",
     "text": [
      "Case #47: 4220\n",
      "Case #48: 6200\n",
      "Case #49: 6540\n",
      "Case #50: 9160\n"
     ]
    }
   ],
   "source": [
    "def main():\n",
    "    N=open('submitInput.txt','r')\n",
    "    with open('submitOutput.txt','w') as f:\n",
    "        \n",
    "        for i in range(int(next(N))):\n",
    "            line=next(N).strip().split()\n",
    "            \n",
    "            #f=None\n",
    "            gold,name,_=line[:3]\n",
    "            gold=int(gold)\n",
    "            skill = set(line[3:])\n",
    "            get=False\n",
    "            #print(gold,skill,name)\n",
    "            encarntions_ch.D ={}\n",
    "            for t in sorted(encarntions_ch(name,skill,gold),key=lambda x:x.cost):\n",
    "                #print(t)\n",
    "                if t.cost<=gold and t.skills.issuperset(skill):\n",
    "                    get=True\n",
    "                    cost=t.cost\n",
    "                    main.t=t\n",
    "                    break\n",
    "                \n",
    "            if get:\n",
    "                print('Case #{}: {}'.format(i+1,cost),)\n",
    "                print('Case #{}: {}'.format(i+1,cost),file=f)\n",
    "            else:\n",
    "                print('Case #{}: {}'.format(i+1,'IMPOSSIBLE'),file=f)\n",
    "                print('Case #{}: {}'.format(i+1,'IMPOSSIBLE'),)\n",
    "                \n",
    "main()                "
   ]
  },
  {
   "cell_type": "code",
   "execution_count": 13,
   "metadata": {},
   "outputs": [
    {
     "name": "stdout",
     "output_type": "stream",
     "text": [
      "50\r\n",
      "87000 character97 1 skill13\r\n",
      "23500 character125 1 skill68\r\n",
      "86140 character118 2 skill78 skill4\r\n",
      "97860 character127 3 skill67 ice skill34\r\n",
      "11440 character102 3 skill21 wind skill58\r\n",
      "39700 character103 3 skill34 skill19 skill8\r\n",
      "42000 character118 3 skill13 skill34 skill42\r\n",
      "37580 character120 3 skill21 resist_thunder skill61\r\n",
      "23200 character138 3 cure wind skill69\r\n"
     ]
    }
   ],
   "source": [
    "!head submitInput.txt"
   ]
  },
  {
   "cell_type": "markdown",
   "metadata": {},
   "source": [
    "encarntions_ch.D"
   ]
  },
  {
   "cell_type": "markdown",
   "metadata": {},
   "source": [
    "Case #1: IMPOSSIBLE\n",
    "Case #2: 4110\n",
    "Case #3: 3350\n",
    "Case #4: 3220\n",
    "Case #5: 3820\n",
    "Case #6: IMPOSSIBLE\n",
    "Case #7: 4470\n",
    "Case #8: IMPOSSIBLE\n",
    "Case #9: 2410\n",
    "Case #10: 4960\n",
    "Case #11: 3870\n",
    "Case #12: 7610\n",
    "Case #13: 4660\n",
    "Case #14: 6390\n",
    "Case #15: 3230\n",
    "Case #16: 3910\n",
    "Case #17: IMPOSSIBLE\n",
    "Case #18: 4870\n",
    "Case #19: 7000\n",
    "Case #20: 3580\n",
    "Case #21: 4360\n",
    "Case #22: 4660\n",
    "Case #23: 3850\n",
    "Case #24: 4510\n",
    "Case #25: 3520\n",
    "Case #26: IMPOSSIBLE\n",
    "Case #27: 4430\n",
    "Case #28: 6350\n",
    "Case #29: 4030\n",
    "Case #30: IMPOSSIBLE\n",
    "Case #31: 3710\n",
    "Case #32: 5270\n",
    "Case #33: 5420\n",
    "Case #34: IMPOSSIBLE\n",
    "Case #35: 8360\n",
    "Case #36: 6240\n",
    "Case #37: 9980\n",
    "Case #38: 4600\n",
    "Case #39: 4030\n",
    "Case #40: 5450\n",
    "Case #41: 5620\n",
    "Case #42: 9840\n",
    "Case #43: 4880\n",
    "Case #44: 8790\n",
    "Case #45: 6530\n",
    "Case #46: 6310\n",
    "Case #47: 4220\n",
    "Case #48: 6200\n",
    "Case #49: 6540\n",
    "Case #50: 9160"
   ]
  },
  {
   "cell_type": "code",
   "execution_count": null,
   "metadata": {},
   "outputs": [],
   "source": []
  }
 ],
 "metadata": {
  "kernelspec": {
   "display_name": "Python 3",
   "language": "python",
   "name": "python3"
  },
  "language_info": {
   "codemirror_mode": {
    "name": "ipython",
    "version": 3
   },
   "file_extension": ".py",
   "mimetype": "text/x-python",
   "name": "python",
   "nbconvert_exporter": "python",
   "pygments_lexer": "ipython3",
   "version": "3.5.2"
  }
 },
 "nbformat": 4,
 "nbformat_minor": 2
}
